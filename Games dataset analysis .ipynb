{
 "cells": [
  {
   "cell_type": "markdown",
   "metadata": {},
   "source": [
    "### The aim of this project is to perform data analysis on this [games dataset](https://www.kaggle.com/khaiid/most-selling-pc-games) and answer these questions:\n",
    "\n",
    "* Which genre is the most popular ?\n",
    "* Which publisher published most of the games ?\n",
    "* Which developer developed most of the games ?\n",
    "* Which series is the most popular ? "
   ]
  },
  {
   "cell_type": "code",
   "execution_count": 95,
   "metadata": {},
   "outputs": [],
   "source": [
    "#Import Libraries\n",
    "import pandas as pd \n",
    "import seaborn as sns \n",
    "import matplotlib.pyplot as plt \n",
    "import warnings\n",
    "warnings.filterwarnings('ignore')"
   ]
  },
  {
   "cell_type": "code",
   "execution_count": 2,
   "metadata": {},
   "outputs": [
    {
     "data": {
      "text/html": [
       "<div>\n",
       "<style scoped>\n",
       "    .dataframe tbody tr th:only-of-type {\n",
       "        vertical-align: middle;\n",
       "    }\n",
       "\n",
       "    .dataframe tbody tr th {\n",
       "        vertical-align: top;\n",
       "    }\n",
       "\n",
       "    .dataframe thead th {\n",
       "        text-align: right;\n",
       "    }\n",
       "</style>\n",
       "<table border=\"1\" class=\"dataframe\">\n",
       "  <thead>\n",
       "    <tr style=\"text-align: right;\">\n",
       "      <th></th>\n",
       "      <th>Name</th>\n",
       "      <th>Sales</th>\n",
       "      <th>Series</th>\n",
       "      <th>Release</th>\n",
       "      <th>Genre</th>\n",
       "      <th>Developer</th>\n",
       "      <th>Publisher</th>\n",
       "    </tr>\n",
       "  </thead>\n",
       "  <tbody>\n",
       "    <tr>\n",
       "      <th>0</th>\n",
       "      <td>PlayerUnknown's Battlegrounds</td>\n",
       "      <td>42.0</td>\n",
       "      <td>NaN</td>\n",
       "      <td>Dec-17</td>\n",
       "      <td>Battle royale</td>\n",
       "      <td>PUBG Studios</td>\n",
       "      <td>Krafton</td>\n",
       "    </tr>\n",
       "    <tr>\n",
       "      <th>1</th>\n",
       "      <td>Minecraft</td>\n",
       "      <td>33.0</td>\n",
       "      <td>Minecraft</td>\n",
       "      <td>Nov-11</td>\n",
       "      <td>Sandbox, survival</td>\n",
       "      <td>Mojang Studios</td>\n",
       "      <td>Mojang Studios</td>\n",
       "    </tr>\n",
       "    <tr>\n",
       "      <th>2</th>\n",
       "      <td>Diablo III</td>\n",
       "      <td>20.0</td>\n",
       "      <td>Diablo</td>\n",
       "      <td>May-12</td>\n",
       "      <td>Action role-playing</td>\n",
       "      <td>Blizzard Entertainment</td>\n",
       "      <td>Blizzard Entertainment</td>\n",
       "    </tr>\n",
       "    <tr>\n",
       "      <th>3</th>\n",
       "      <td>Garry's Mod</td>\n",
       "      <td>20.0</td>\n",
       "      <td>NaN</td>\n",
       "      <td>Nov-06</td>\n",
       "      <td>Sandbox</td>\n",
       "      <td>Facepunch Studios</td>\n",
       "      <td>Valve</td>\n",
       "    </tr>\n",
       "    <tr>\n",
       "      <th>4</th>\n",
       "      <td>Terraria</td>\n",
       "      <td>17.2</td>\n",
       "      <td>NaN</td>\n",
       "      <td>May-11</td>\n",
       "      <td>Action-adventure</td>\n",
       "      <td>Re-Logic</td>\n",
       "      <td>Re-Logic</td>\n",
       "    </tr>\n",
       "  </tbody>\n",
       "</table>\n",
       "</div>"
      ],
      "text/plain": [
       "                            Name  Sales     Series Release  \\\n",
       "0  PlayerUnknown's Battlegrounds   42.0        NaN  Dec-17   \n",
       "1                      Minecraft   33.0  Minecraft  Nov-11   \n",
       "2                     Diablo III   20.0     Diablo  May-12   \n",
       "3                    Garry's Mod   20.0        NaN  Nov-06   \n",
       "4                       Terraria   17.2        NaN  May-11   \n",
       "\n",
       "                 Genre               Developer               Publisher  \n",
       "0        Battle royale            PUBG Studios                 Krafton  \n",
       "1    Sandbox, survival          Mojang Studios          Mojang Studios  \n",
       "2  Action role-playing  Blizzard Entertainment  Blizzard Entertainment  \n",
       "3              Sandbox       Facepunch Studios                   Valve  \n",
       "4     Action-adventure                Re-Logic                Re-Logic  "
      ]
     },
     "execution_count": 2,
     "metadata": {},
     "output_type": "execute_result"
    }
   ],
   "source": [
    "# Load and read data\n",
    "df = pd.read_csv('Games.csv')\n",
    "df.head()"
   ]
  },
  {
   "cell_type": "code",
   "execution_count": 3,
   "metadata": {},
   "outputs": [
    {
     "data": {
      "text/html": [
       "<div>\n",
       "<style scoped>\n",
       "    .dataframe tbody tr th:only-of-type {\n",
       "        vertical-align: middle;\n",
       "    }\n",
       "\n",
       "    .dataframe tbody tr th {\n",
       "        vertical-align: top;\n",
       "    }\n",
       "\n",
       "    .dataframe thead th {\n",
       "        text-align: right;\n",
       "    }\n",
       "</style>\n",
       "<table border=\"1\" class=\"dataframe\">\n",
       "  <thead>\n",
       "    <tr style=\"text-align: right;\">\n",
       "      <th></th>\n",
       "      <th>Name</th>\n",
       "      <th>Sales (Millions)</th>\n",
       "      <th>Series</th>\n",
       "      <th>Release</th>\n",
       "      <th>Genre</th>\n",
       "      <th>Developer</th>\n",
       "      <th>Publisher</th>\n",
       "    </tr>\n",
       "  </thead>\n",
       "  <tbody>\n",
       "    <tr>\n",
       "      <th>0</th>\n",
       "      <td>PlayerUnknown's Battlegrounds</td>\n",
       "      <td>42.0</td>\n",
       "      <td>NaN</td>\n",
       "      <td>Dec-17</td>\n",
       "      <td>Battle royale</td>\n",
       "      <td>PUBG Studios</td>\n",
       "      <td>Krafton</td>\n",
       "    </tr>\n",
       "    <tr>\n",
       "      <th>1</th>\n",
       "      <td>Minecraft</td>\n",
       "      <td>33.0</td>\n",
       "      <td>Minecraft</td>\n",
       "      <td>Nov-11</td>\n",
       "      <td>Sandbox, survival</td>\n",
       "      <td>Mojang Studios</td>\n",
       "      <td>Mojang Studios</td>\n",
       "    </tr>\n",
       "    <tr>\n",
       "      <th>2</th>\n",
       "      <td>Diablo III</td>\n",
       "      <td>20.0</td>\n",
       "      <td>Diablo</td>\n",
       "      <td>May-12</td>\n",
       "      <td>Action role-playing</td>\n",
       "      <td>Blizzard Entertainment</td>\n",
       "      <td>Blizzard Entertainment</td>\n",
       "    </tr>\n",
       "    <tr>\n",
       "      <th>3</th>\n",
       "      <td>Garry's Mod</td>\n",
       "      <td>20.0</td>\n",
       "      <td>NaN</td>\n",
       "      <td>Nov-06</td>\n",
       "      <td>Sandbox</td>\n",
       "      <td>Facepunch Studios</td>\n",
       "      <td>Valve</td>\n",
       "    </tr>\n",
       "    <tr>\n",
       "      <th>4</th>\n",
       "      <td>Terraria</td>\n",
       "      <td>17.2</td>\n",
       "      <td>NaN</td>\n",
       "      <td>May-11</td>\n",
       "      <td>Action-adventure</td>\n",
       "      <td>Re-Logic</td>\n",
       "      <td>Re-Logic</td>\n",
       "    </tr>\n",
       "  </tbody>\n",
       "</table>\n",
       "</div>"
      ],
      "text/plain": [
       "                            Name  Sales (Millions)     Series Release  \\\n",
       "0  PlayerUnknown's Battlegrounds              42.0        NaN  Dec-17   \n",
       "1                      Minecraft              33.0  Minecraft  Nov-11   \n",
       "2                     Diablo III              20.0     Diablo  May-12   \n",
       "3                    Garry's Mod              20.0        NaN  Nov-06   \n",
       "4                       Terraria              17.2        NaN  May-11   \n",
       "\n",
       "                 Genre               Developer               Publisher  \n",
       "0        Battle royale            PUBG Studios                 Krafton  \n",
       "1    Sandbox, survival          Mojang Studios          Mojang Studios  \n",
       "2  Action role-playing  Blizzard Entertainment  Blizzard Entertainment  \n",
       "3              Sandbox       Facepunch Studios                   Valve  \n",
       "4     Action-adventure                Re-Logic                Re-Logic  "
      ]
     },
     "execution_count": 3,
     "metadata": {},
     "output_type": "execute_result"
    }
   ],
   "source": [
    "# Change Sales column name to Sales (Millions)\n",
    "df_copy = df.copy()\n",
    "df_copy.rename(columns={'Sales':'Sales (Millions)'}, inplace=True)\n",
    "df_copy.head()"
   ]
  },
  {
   "cell_type": "code",
   "execution_count": 4,
   "metadata": {},
   "outputs": [
    {
     "data": {
      "text/html": [
       "<div>\n",
       "<style scoped>\n",
       "    .dataframe tbody tr th:only-of-type {\n",
       "        vertical-align: middle;\n",
       "    }\n",
       "\n",
       "    .dataframe tbody tr th {\n",
       "        vertical-align: top;\n",
       "    }\n",
       "\n",
       "    .dataframe thead th {\n",
       "        text-align: right;\n",
       "    }\n",
       "</style>\n",
       "<table border=\"1\" class=\"dataframe\">\n",
       "  <thead>\n",
       "    <tr style=\"text-align: right;\">\n",
       "      <th></th>\n",
       "      <th>Name</th>\n",
       "      <th>Sales (Millions)</th>\n",
       "      <th>Series</th>\n",
       "      <th>Release</th>\n",
       "      <th>Genre</th>\n",
       "      <th>Developer</th>\n",
       "      <th>Publisher</th>\n",
       "    </tr>\n",
       "  </thead>\n",
       "  <tbody>\n",
       "    <tr>\n",
       "      <th>170</th>\n",
       "      <td>Vietcong</td>\n",
       "      <td>1.0</td>\n",
       "      <td>Vietcong</td>\n",
       "      <td>Mar-03</td>\n",
       "      <td>Tactical shooter</td>\n",
       "      <td>Pterodon</td>\n",
       "      <td>Gathering of Developers</td>\n",
       "    </tr>\n",
       "    <tr>\n",
       "      <th>171</th>\n",
       "      <td>Warhammer Online: Age of Reckoning</td>\n",
       "      <td>1.0</td>\n",
       "      <td>Warhammer</td>\n",
       "      <td>Sep-08</td>\n",
       "      <td>MMORPG</td>\n",
       "      <td>Mythic Entertainment</td>\n",
       "      <td>Electronic Arts</td>\n",
       "    </tr>\n",
       "    <tr>\n",
       "      <th>172</th>\n",
       "      <td>Who Wants to Be a Millionaire?</td>\n",
       "      <td>1.0</td>\n",
       "      <td>NaN</td>\n",
       "      <td>Nov-99</td>\n",
       "      <td>Trivia game</td>\n",
       "      <td>Jellyvision</td>\n",
       "      <td>Disney Interactive Studios</td>\n",
       "    </tr>\n",
       "    <tr>\n",
       "      <th>173</th>\n",
       "      <td>Wing Commander 3: Heart of the Tiger</td>\n",
       "      <td>1.0</td>\n",
       "      <td>Wing Commander</td>\n",
       "      <td>Dec-94</td>\n",
       "      <td>Space combat simulation</td>\n",
       "      <td>Origin Systems</td>\n",
       "      <td>Electronic Arts</td>\n",
       "    </tr>\n",
       "    <tr>\n",
       "      <th>174</th>\n",
       "      <td>Zoo Tycoon</td>\n",
       "      <td>1.0</td>\n",
       "      <td>Zoo Tycoon</td>\n",
       "      <td>Oct-01</td>\n",
       "      <td>Business simulation</td>\n",
       "      <td>Microsoft</td>\n",
       "      <td>Blue Fang Games</td>\n",
       "    </tr>\n",
       "  </tbody>\n",
       "</table>\n",
       "</div>"
      ],
      "text/plain": [
       "                                     Name  Sales (Millions)          Series  \\\n",
       "170                              Vietcong               1.0        Vietcong   \n",
       "171    Warhammer Online: Age of Reckoning               1.0       Warhammer   \n",
       "172        Who Wants to Be a Millionaire?               1.0             NaN   \n",
       "173  Wing Commander 3: Heart of the Tiger               1.0  Wing Commander   \n",
       "174                            Zoo Tycoon               1.0      Zoo Tycoon   \n",
       "\n",
       "    Release                    Genre             Developer  \\\n",
       "170  Mar-03         Tactical shooter              Pterodon   \n",
       "171  Sep-08                   MMORPG  Mythic Entertainment   \n",
       "172  Nov-99              Trivia game           Jellyvision   \n",
       "173  Dec-94  Space combat simulation        Origin Systems   \n",
       "174  Oct-01      Business simulation             Microsoft   \n",
       "\n",
       "                      Publisher  \n",
       "170     Gathering of Developers  \n",
       "171             Electronic Arts  \n",
       "172  Disney Interactive Studios  \n",
       "173             Electronic Arts  \n",
       "174             Blue Fang Games  "
      ]
     },
     "execution_count": 4,
     "metadata": {},
     "output_type": "execute_result"
    }
   ],
   "source": [
    "df_copy.tail()"
   ]
  },
  {
   "cell_type": "code",
   "execution_count": 6,
   "metadata": {},
   "outputs": [
    {
     "name": "stdout",
     "output_type": "stream",
     "text": [
      "The dataset has 175 rows and 7 columns.\n"
     ]
    }
   ],
   "source": [
    "# Display number of rows and columns\n",
    "print('The dataset has {} rows and {} columns.'.format(df_copy.shape[0], df_copy.shape[1]))"
   ]
  },
  {
   "cell_type": "code",
   "execution_count": 10,
   "metadata": {},
   "outputs": [
    {
     "data": {
      "text/html": [
       "<div>\n",
       "<style scoped>\n",
       "    .dataframe tbody tr th:only-of-type {\n",
       "        vertical-align: middle;\n",
       "    }\n",
       "\n",
       "    .dataframe tbody tr th {\n",
       "        vertical-align: top;\n",
       "    }\n",
       "\n",
       "    .dataframe thead th {\n",
       "        text-align: right;\n",
       "    }\n",
       "</style>\n",
       "<table border=\"1\" class=\"dataframe\">\n",
       "  <thead>\n",
       "    <tr style=\"text-align: right;\">\n",
       "      <th></th>\n",
       "      <th>Sales (Millions)</th>\n",
       "    </tr>\n",
       "  </thead>\n",
       "  <tbody>\n",
       "    <tr>\n",
       "      <th>count</th>\n",
       "      <td>175.000000</td>\n",
       "    </tr>\n",
       "    <tr>\n",
       "      <th>mean</th>\n",
       "      <td>3.141143</td>\n",
       "    </tr>\n",
       "    <tr>\n",
       "      <th>std</th>\n",
       "      <td>4.960513</td>\n",
       "    </tr>\n",
       "    <tr>\n",
       "      <th>min</th>\n",
       "      <td>1.000000</td>\n",
       "    </tr>\n",
       "    <tr>\n",
       "      <th>25%</th>\n",
       "      <td>1.000000</td>\n",
       "    </tr>\n",
       "    <tr>\n",
       "      <th>50%</th>\n",
       "      <td>1.500000</td>\n",
       "    </tr>\n",
       "    <tr>\n",
       "      <th>75%</th>\n",
       "      <td>3.000000</td>\n",
       "    </tr>\n",
       "    <tr>\n",
       "      <th>max</th>\n",
       "      <td>42.000000</td>\n",
       "    </tr>\n",
       "  </tbody>\n",
       "</table>\n",
       "</div>"
      ],
      "text/plain": [
       "       Sales (Millions)\n",
       "count        175.000000\n",
       "mean           3.141143\n",
       "std            4.960513\n",
       "min            1.000000\n",
       "25%            1.000000\n",
       "50%            1.500000\n",
       "75%            3.000000\n",
       "max           42.000000"
      ]
     },
     "execution_count": 10,
     "metadata": {},
     "output_type": "execute_result"
    }
   ],
   "source": [
    "# Get statistical overview of data\n",
    "df_copy.describe()"
   ]
  },
  {
   "cell_type": "code",
   "execution_count": 11,
   "metadata": {},
   "outputs": [
    {
     "name": "stdout",
     "output_type": "stream",
     "text": [
      "<class 'pandas.core.frame.DataFrame'>\n",
      "RangeIndex: 175 entries, 0 to 174\n",
      "Data columns (total 7 columns):\n",
      " #   Column            Non-Null Count  Dtype  \n",
      "---  ------            --------------  -----  \n",
      " 0   Name              175 non-null    object \n",
      " 1   Sales (Millions)  175 non-null    float64\n",
      " 2   Series            139 non-null    object \n",
      " 3   Release           175 non-null    object \n",
      " 4   Genre             175 non-null    object \n",
      " 5   Developer         175 non-null    object \n",
      " 6   Publisher         175 non-null    object \n",
      "dtypes: float64(1), object(6)\n",
      "memory usage: 9.7+ KB\n"
     ]
    }
   ],
   "source": [
    "df_copy.info()"
   ]
  },
  {
   "cell_type": "markdown",
   "metadata": {},
   "source": [
    "###### The Series column has missing values."
   ]
  },
  {
   "cell_type": "code",
   "execution_count": 17,
   "metadata": {},
   "outputs": [
    {
     "data": {
      "text/plain": [
       "Name                 0\n",
       "Sales (Millions)     0\n",
       "Series              36\n",
       "Release              0\n",
       "Genre                0\n",
       "Developer            0\n",
       "Publisher            0\n",
       "dtype: int64"
      ]
     },
     "execution_count": 17,
     "metadata": {},
     "output_type": "execute_result"
    }
   ],
   "source": [
    "df_copy.isnull().sum()"
   ]
  },
  {
   "cell_type": "code",
   "execution_count": 18,
   "metadata": {},
   "outputs": [
    {
     "data": {
      "text/plain": [
       "Name                 0.00\n",
       "Sales (Millions)     0.00\n",
       "Series              20.57\n",
       "Release              0.00\n",
       "Genre                0.00\n",
       "Developer            0.00\n",
       "Publisher            0.00\n",
       "dtype: float64"
      ]
     },
     "execution_count": 18,
     "metadata": {},
     "output_type": "execute_result"
    }
   ],
   "source": [
    "# Percentage of missing values \n",
    "per_missing = round((df_copy.isnull().sum() / len(df_copy)) *100, 2)\n",
    "per_missing"
   ]
  },
  {
   "cell_type": "code",
   "execution_count": 20,
   "metadata": {},
   "outputs": [
    {
     "data": {
      "text/plain": [
       "Name                False\n",
       "Sales (Millions)    False\n",
       "Series              False\n",
       "Release             False\n",
       "Genre               False\n",
       "Developer           False\n",
       "Publisher           False\n",
       "dtype: bool"
      ]
     },
     "execution_count": 20,
     "metadata": {},
     "output_type": "execute_result"
    }
   ],
   "source": [
    "# Drop rows with missing values\n",
    "df_copy.dropna(inplace=True)\n",
    "df_copy.isnull().any()"
   ]
  },
  {
   "cell_type": "code",
   "execution_count": 21,
   "metadata": {},
   "outputs": [
    {
     "data": {
      "text/plain": [
       "139"
      ]
     },
     "execution_count": 21,
     "metadata": {},
     "output_type": "execute_result"
    }
   ],
   "source": [
    "len(df_copy)"
   ]
  },
  {
   "cell_type": "markdown",
   "metadata": {},
   "source": [
    "###### 20.5% of the data was dropped. "
   ]
  },
  {
   "cell_type": "markdown",
   "metadata": {},
   "source": [
    "### 1. Which genre is the most popular ?"
   ]
  },
  {
   "cell_type": "code",
   "execution_count": 22,
   "metadata": {},
   "outputs": [
    {
     "data": {
      "text/plain": [
       "Index(['Name', 'Sales (Millions)', 'Series', 'Release', 'Genre', 'Developer',\n",
       "       'Publisher'],\n",
       "      dtype='object')"
      ]
     },
     "execution_count": 22,
     "metadata": {},
     "output_type": "execute_result"
    }
   ],
   "source": [
    "df_copy.columns"
   ]
  },
  {
   "cell_type": "code",
   "execution_count": 31,
   "metadata": {},
   "outputs": [
    {
     "data": {
      "text/plain": [
       "Real-time strategy      23\n",
       "First-person shooter    18\n",
       "Action role-playing     11\n",
       "Role-playing game        7\n",
       "MMORPG                   6\n",
       "Name: Genre, dtype: int64"
      ]
     },
     "execution_count": 31,
     "metadata": {},
     "output_type": "execute_result"
    }
   ],
   "source": [
    "df_copy['Genre'].value_counts().head()"
   ]
  },
  {
   "cell_type": "code",
   "execution_count": 47,
   "metadata": {},
   "outputs": [
    {
     "data": {
      "text/plain": [
       "1    Sandbox, survival\n",
       "Name: Genre, dtype: object"
      ]
     },
     "execution_count": 47,
     "metadata": {},
     "output_type": "execute_result"
    }
   ],
   "source": [
    "df_copy[df_copy['Sales (Millions)'].max() == df_copy['Sales (Millions)']]['Genre']"
   ]
  },
  {
   "cell_type": "markdown",
   "metadata": {},
   "source": [
    "###### Real-time strategy is the most popular Gaming genre. "
   ]
  },
  {
   "cell_type": "code",
   "execution_count": 66,
   "metadata": {},
   "outputs": [
    {
     "data": {
      "text/plain": [
       "<AxesSubplot:>"
      ]
     },
     "execution_count": 66,
     "metadata": {},
     "output_type": "execute_result"
    },
    {
     "data": {
      "image/png": "[encoded data removed]",
      "text/plain": [
       "<Figure size 720x504 with 1 Axes>"
      ]
     },
     "metadata": {
      "needs_background": "light"
     },
     "output_type": "display_data"
    }
   ],
   "source": [
    "# Visualize most popular gaming genre\n",
    "plt.figure(figsize = (10,7))\n",
    "df_copy.Genre.value_counts().head().sort_values().plot(kind = 'barh', color = list('rgbkymc'))"
   ]
  },
  {
   "cell_type": "markdown",
   "metadata": {},
   "source": [
    "### 2. Which publisher published most of the games ?"
   ]
  },
  {
   "cell_type": "code",
   "execution_count": 45,
   "metadata": {},
   "outputs": [
    {
     "data": {
      "text/plain": [
       "Electronic Arts    19\n",
       "Name: Publisher, dtype: int64"
      ]
     },
     "execution_count": 45,
     "metadata": {},
     "output_type": "execute_result"
    }
   ],
   "source": [
    "df_copy['Publisher'].value_counts().head(1)"
   ]
  },
  {
   "cell_type": "code",
   "execution_count": 46,
   "metadata": {},
   "outputs": [
    {
     "name": "stdout",
     "output_type": "stream",
     "text": [
      "Electronic Arts (EA)published 19 games\n"
     ]
    }
   ],
   "source": [
    "print('Electronic Arts (EA) published 19 games')"
   ]
  },
  {
   "cell_type": "code",
   "execution_count": 63,
   "metadata": {},
   "outputs": [
    {
     "data": {
      "image/png": "[encoded data removed]",
      "text/plain": [
       "<Figure size 1080x504 with 1 Axes>"
      ]
     },
     "metadata": {},
     "output_type": "display_data"
    }
   ],
   "source": [
    "plt.figure(figsize = (15,7))\n",
    "df_copy.Publisher.value_counts().iloc[:5].plot(kind='pie', ylabel='')\n",
    "plt.title(\"Top 5 Game Publishers\", fontsize=(20))\n",
    "plt.show()"
   ]
  },
  {
   "cell_type": "markdown",
   "metadata": {},
   "source": [
    "### 3. Which developer developed most of the games ?"
   ]
  },
  {
   "cell_type": "code",
   "execution_count": 64,
   "metadata": {},
   "outputs": [
    {
     "data": {
      "image/png": "[encoded data removed]",
      "text/plain": [
       "<Figure size 1080x504 with 1 Axes>"
      ]
     },
     "metadata": {
      "needs_background": "light"
     },
     "output_type": "display_data"
    }
   ],
   "source": [
    "plt.figure(figsize = (15,7))\n",
    "df_copy.Developer.value_counts().iloc[:10].plot(kind='bar', color=('lightblue'))\n",
    "plt.title(\"Top 10 Game Developers\", fontsize=(20))\n",
    "plt.ylabel(\"Number Of Games Developed\", fontsize=(15))\n",
    "plt.xlabel(\"Developers\", fontsize=(15))\n",
    "plt.xticks(rotation=30)\n",
    "plt.show()"
   ]
  },
  {
   "cell_type": "markdown",
   "metadata": {},
   "source": [
    "### 4. Which series is the most popular ?"
   ]
  },
  {
   "cell_type": "code",
   "execution_count": 67,
   "metadata": {},
   "outputs": [
    {
     "data": {
      "text/plain": [
       "Command & Conquer    5\n",
       "Name: Series, dtype: int64"
      ]
     },
     "execution_count": 67,
     "metadata": {},
     "output_type": "execute_result"
    }
   ],
   "source": [
    "df_copy['Series'].value_counts().head(1)"
   ]
  },
  {
   "cell_type": "markdown",
   "metadata": {},
   "source": [
    "###### Command & Conquer is the most popular series."
   ]
  },
  {
   "cell_type": "code",
   "execution_count": 100,
   "metadata": {},
   "outputs": [
    {
     "data": {
      "text/html": [
       "<div>\n",
       "<style scoped>\n",
       "    .dataframe tbody tr th:only-of-type {\n",
       "        vertical-align: middle;\n",
       "    }\n",
       "\n",
       "    .dataframe tbody tr th {\n",
       "        vertical-align: top;\n",
       "    }\n",
       "\n",
       "    .dataframe thead th {\n",
       "        text-align: right;\n",
       "    }\n",
       "</style>\n",
       "<table border=\"1\" class=\"dataframe\">\n",
       "  <thead>\n",
       "    <tr style=\"text-align: right;\">\n",
       "      <th></th>\n",
       "      <th>Name</th>\n",
       "      <th>Sales (Millions)</th>\n",
       "      <th>Series</th>\n",
       "      <th>Release</th>\n",
       "      <th>Genre</th>\n",
       "      <th>Developer</th>\n",
       "      <th>Publisher</th>\n",
       "      <th>Datetime</th>\n",
       "      <th>Year</th>\n",
       "    </tr>\n",
       "  </thead>\n",
       "  <tbody>\n",
       "    <tr>\n",
       "      <th>1</th>\n",
       "      <td>Minecraft</td>\n",
       "      <td>33.0</td>\n",
       "      <td>Minecraft</td>\n",
       "      <td>Nov-11</td>\n",
       "      <td>Sandbox, survival</td>\n",
       "      <td>Mojang Studios</td>\n",
       "      <td>Mojang Studios</td>\n",
       "      <td>2011-11-01</td>\n",
       "      <td>2011</td>\n",
       "    </tr>\n",
       "    <tr>\n",
       "      <th>2</th>\n",
       "      <td>Diablo III</td>\n",
       "      <td>20.0</td>\n",
       "      <td>Diablo</td>\n",
       "      <td>May-12</td>\n",
       "      <td>Action role-playing</td>\n",
       "      <td>Blizzard Entertainment</td>\n",
       "      <td>Blizzard Entertainment</td>\n",
       "      <td>2012-05-01</td>\n",
       "      <td>2012</td>\n",
       "    </tr>\n",
       "    <tr>\n",
       "      <th>5</th>\n",
       "      <td>World of Warcraft</td>\n",
       "      <td>14.0</td>\n",
       "      <td>Warcraft</td>\n",
       "      <td>Nov-04</td>\n",
       "      <td>MMORPG</td>\n",
       "      <td>Blizzard Entertainment</td>\n",
       "      <td>Blizzard Entertainment</td>\n",
       "      <td>2004-11-01</td>\n",
       "      <td>2004</td>\n",
       "    </tr>\n",
       "    <tr>\n",
       "      <th>6</th>\n",
       "      <td>Half-Life 2</td>\n",
       "      <td>12.0</td>\n",
       "      <td>Half-Life</td>\n",
       "      <td>Nov-04</td>\n",
       "      <td>First-person shooter</td>\n",
       "      <td>Valve</td>\n",
       "      <td>Valve (digital)</td>\n",
       "      <td>2004-11-01</td>\n",
       "      <td>2004</td>\n",
       "    </tr>\n",
       "    <tr>\n",
       "      <th>7</th>\n",
       "      <td>The Witcher 3: Wild Hunt</td>\n",
       "      <td>12.0</td>\n",
       "      <td>The Witcher</td>\n",
       "      <td>May-15</td>\n",
       "      <td>Action role-playing</td>\n",
       "      <td>CD Projekt Red</td>\n",
       "      <td>CD Projekt</td>\n",
       "      <td>2015-05-01</td>\n",
       "      <td>2015</td>\n",
       "    </tr>\n",
       "  </tbody>\n",
       "</table>\n",
       "</div>"
      ],
      "text/plain": [
       "                       Name  Sales (Millions)       Series Release  \\\n",
       "1                 Minecraft              33.0    Minecraft  Nov-11   \n",
       "2                Diablo III              20.0       Diablo  May-12   \n",
       "5         World of Warcraft              14.0     Warcraft  Nov-04   \n",
       "6               Half-Life 2              12.0    Half-Life  Nov-04   \n",
       "7  The Witcher 3: Wild Hunt              12.0  The Witcher  May-15   \n",
       "\n",
       "                  Genre               Developer               Publisher  \\\n",
       "1     Sandbox, survival          Mojang Studios          Mojang Studios   \n",
       "2   Action role-playing  Blizzard Entertainment  Blizzard Entertainment   \n",
       "5                MMORPG  Blizzard Entertainment  Blizzard Entertainment   \n",
       "6  First-person shooter                   Valve         Valve (digital)   \n",
       "7   Action role-playing          CD Projekt Red              CD Projekt   \n",
       "\n",
       "    Datetime  Year  \n",
       "1 2011-11-01  2011  \n",
       "2 2012-05-01  2012  \n",
       "5 2004-11-01  2004  \n",
       "6 2004-11-01  2004  \n",
       "7 2015-05-01  2015  "
      ]
     },
     "execution_count": 100,
     "metadata": {},
     "output_type": "execute_result"
    }
   ],
   "source": [
    "# Convert Release date to pandas Datetime\n",
    "df_copy['Datetime'] = pd.to_datetime(df_copy.Release,format='%b-%y')\n",
    "df_copy.head()"
   ]
  },
  {
   "cell_type": "code",
   "execution_count": 101,
   "metadata": {},
   "outputs": [
    {
     "data": {
      "text/html": [
       "<div>\n",
       "<style scoped>\n",
       "    .dataframe tbody tr th:only-of-type {\n",
       "        vertical-align: middle;\n",
       "    }\n",
       "\n",
       "    .dataframe tbody tr th {\n",
       "        vertical-align: top;\n",
       "    }\n",
       "\n",
       "    .dataframe thead th {\n",
       "        text-align: right;\n",
       "    }\n",
       "</style>\n",
       "<table border=\"1\" class=\"dataframe\">\n",
       "  <thead>\n",
       "    <tr style=\"text-align: right;\">\n",
       "      <th></th>\n",
       "      <th>Name</th>\n",
       "      <th>Sales (Millions)</th>\n",
       "      <th>Series</th>\n",
       "      <th>Release</th>\n",
       "      <th>Genre</th>\n",
       "      <th>Developer</th>\n",
       "      <th>Publisher</th>\n",
       "      <th>Datetime</th>\n",
       "      <th>Year</th>\n",
       "    </tr>\n",
       "  </thead>\n",
       "  <tbody>\n",
       "    <tr>\n",
       "      <th>1</th>\n",
       "      <td>Minecraft</td>\n",
       "      <td>33.0</td>\n",
       "      <td>Minecraft</td>\n",
       "      <td>Nov-11</td>\n",
       "      <td>Sandbox, survival</td>\n",
       "      <td>Mojang Studios</td>\n",
       "      <td>Mojang Studios</td>\n",
       "      <td>2011-11-01</td>\n",
       "      <td>2011</td>\n",
       "    </tr>\n",
       "    <tr>\n",
       "      <th>2</th>\n",
       "      <td>Diablo III</td>\n",
       "      <td>20.0</td>\n",
       "      <td>Diablo</td>\n",
       "      <td>May-12</td>\n",
       "      <td>Action role-playing</td>\n",
       "      <td>Blizzard Entertainment</td>\n",
       "      <td>Blizzard Entertainment</td>\n",
       "      <td>2012-05-01</td>\n",
       "      <td>2012</td>\n",
       "    </tr>\n",
       "    <tr>\n",
       "      <th>5</th>\n",
       "      <td>World of Warcraft</td>\n",
       "      <td>14.0</td>\n",
       "      <td>Warcraft</td>\n",
       "      <td>Nov-04</td>\n",
       "      <td>MMORPG</td>\n",
       "      <td>Blizzard Entertainment</td>\n",
       "      <td>Blizzard Entertainment</td>\n",
       "      <td>2004-11-01</td>\n",
       "      <td>2004</td>\n",
       "    </tr>\n",
       "    <tr>\n",
       "      <th>6</th>\n",
       "      <td>Half-Life 2</td>\n",
       "      <td>12.0</td>\n",
       "      <td>Half-Life</td>\n",
       "      <td>Nov-04</td>\n",
       "      <td>First-person shooter</td>\n",
       "      <td>Valve</td>\n",
       "      <td>Valve (digital)</td>\n",
       "      <td>2004-11-01</td>\n",
       "      <td>2004</td>\n",
       "    </tr>\n",
       "    <tr>\n",
       "      <th>7</th>\n",
       "      <td>The Witcher 3: Wild Hunt</td>\n",
       "      <td>12.0</td>\n",
       "      <td>The Witcher</td>\n",
       "      <td>May-15</td>\n",
       "      <td>Action role-playing</td>\n",
       "      <td>CD Projekt Red</td>\n",
       "      <td>CD Projekt</td>\n",
       "      <td>2015-05-01</td>\n",
       "      <td>2015</td>\n",
       "    </tr>\n",
       "  </tbody>\n",
       "</table>\n",
       "</div>"
      ],
      "text/plain": [
       "                       Name  Sales (Millions)       Series Release  \\\n",
       "1                 Minecraft              33.0    Minecraft  Nov-11   \n",
       "2                Diablo III              20.0       Diablo  May-12   \n",
       "5         World of Warcraft              14.0     Warcraft  Nov-04   \n",
       "6               Half-Life 2              12.0    Half-Life  Nov-04   \n",
       "7  The Witcher 3: Wild Hunt              12.0  The Witcher  May-15   \n",
       "\n",
       "                  Genre               Developer               Publisher  \\\n",
       "1     Sandbox, survival          Mojang Studios          Mojang Studios   \n",
       "2   Action role-playing  Blizzard Entertainment  Blizzard Entertainment   \n",
       "5                MMORPG  Blizzard Entertainment  Blizzard Entertainment   \n",
       "6  First-person shooter                   Valve         Valve (digital)   \n",
       "7   Action role-playing          CD Projekt Red              CD Projekt   \n",
       "\n",
       "    Datetime  Year  \n",
       "1 2011-11-01  2011  \n",
       "2 2012-05-01  2012  \n",
       "5 2004-11-01  2004  \n",
       "6 2004-11-01  2004  \n",
       "7 2015-05-01  2015  "
      ]
     },
     "execution_count": 101,
     "metadata": {},
     "output_type": "execute_result"
    }
   ],
   "source": [
    "df_copy['Year'] = df_copy['Datetime'].dt.year\n",
    "df_copy.head()"
   ]
  },
  {
   "cell_type": "code",
   "execution_count": 102,
   "metadata": {},
   "outputs": [
    {
     "data": {
      "image/png": "[encoded data removed]",
      "text/plain": [
       "<Figure size 1080x504 with 1 Axes>"
      ]
     },
     "metadata": {
      "needs_background": "light"
     },
     "output_type": "display_data"
    }
   ],
   "source": [
    "plt.figure(figsize=(15,7))\n",
    "sns.countplot('Year', data=df_copy)\n",
    "plt.xlabel('Year', fontsize=(15))\n",
    "plt.ylabel('Count', fontsize=(15))\n",
    "plt.xticks(rotation=10)\n",
    "plt.show()"
   ]
  }
 ],
 "metadata": {
  "kernelspec": {
   "display_name": "Python 3",
   "language": "python",
   "name": "python3"
  },
  "language_info": {
   "codemirror_mode": {
    "name": "ipython",
    "version": 3
   },
   "file_extension": ".py",
   "mimetype": "text/x-python",
   "name": "python",
   "nbconvert_exporter": "python",
   "pygments_lexer": "ipython3",
   "version": "3.8.5"
  }
 },
 "nbformat": 4,
 "nbformat_minor": 4
}
