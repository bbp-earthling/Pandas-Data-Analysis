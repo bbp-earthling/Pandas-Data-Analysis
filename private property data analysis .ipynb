{
 "cells": [
  {
   "cell_type": "markdown",
   "metadata": {},
   "source": [
    "## The aim of this project is to scrape data from private property website and perform data analysis on it. I only want to scrape Randburg suburbs data."
   ]
  },
  {
   "cell_type": "code",
   "execution_count": 242,
   "metadata": {},
   "outputs": [],
   "source": [
    "# Import dependencies\n",
    "import requests \n",
    "from bs4 import BeautifulSoup as bs \n",
    "import pandas as pd\n",
    "import seaborn as sns \n",
    "import matplotlib.pyplot as plt\n",
    "import numpy as np"
   ]
  },
  {
   "cell_type": "markdown",
   "metadata": {},
   "source": [
    "### Part 1 : Webscraping "
   ]
  },
  {
   "cell_type": "code",
   "execution_count": 43,
   "metadata": {},
   "outputs": [],
   "source": [
    "page = 0\n",
    "prices = []\n",
    "property_type = []\n",
    "locations = []\n",
    "bedrooms = []\n",
    "bathrooms = []"
   ]
  },
  {
   "cell_type": "markdown",
   "metadata": {},
   "source": [
    "###### Randburg properties take up about 55 web pages of the site, we will create a while loop to extract data from all pages. "
   ]
  },
  {
   "cell_type": "code",
   "execution_count": 95,
   "metadata": {
    "scrolled": true
   },
   "outputs": [],
   "source": [
    "# A while loop to loop through all Randburg pages & extract data that we want\n",
    "\n",
    "while page != 56:\n",
    "    url = f\"https://www.privateproperty.co.za/for-sale/gauteng/johannesburg/randburg-and-ferndale/35?page={page}\"\n",
    "    req = requests.get(url)\n",
    "    soup = bs(req.content, \"html.parser\")\n",
    "    for price in soup.findAll('div', class_=\"priceDescription\"):\n",
    "        prices.append(price.get_text(strip=True))\n",
    "    for p_type in soup.findAll('div', class_=\"propertyType\"):\n",
    "        property_type.append(p_type.get_text(strip=True))\n",
    "    for location in soup.findAll(\"div\", class_=\"suburb\"):\n",
    "        locations.append(location.get_text(strip=True))\n",
    "    for bd in soup.findAll('div', class_=\"icon bedroom\"):\n",
    "        bedrooms.append(bd.find_previous('div', class_=\"number\").get_text(strip=True))\n",
    "    for br in soup.findAll('div', class_=\"icon bedroom\"):\n",
    "        bathrooms.append(br.find_next_sibling('div', class_=\"number\").get_text(strip=True))\n",
    "    page = page + 1"
   ]
  },
  {
   "cell_type": "code",
   "execution_count": 96,
   "metadata": {},
   "outputs": [],
   "source": [
    "# Convert lists into a Pandas Series\n",
    "price_series = pd.Series(prices)\n",
    "pt_series = pd.Series(property_type)\n",
    "location_series = pd.Series(locations)\n",
    "bd_series = pd.Series(bedrooms)\n",
    "br_series = pd.Series(bathrooms)"
   ]
  },
  {
   "cell_type": "code",
   "execution_count": 97,
   "metadata": {},
   "outputs": [],
   "source": [
    "# Create the DataFrame using multiple pandas series created above\n",
    "data = pd.DataFrame(columns=['Bedrooms', 'Bathrooms', 'Property Type', 'Location', 'Price(R)'])\n",
    "data['Bedrooms'] = bd_series\n",
    "data['Bathrooms'] = br_series\n",
    "data['Property Type'] = pt_series\n",
    "data['Location'] = location_series\n",
    "data['Price(R)'] = price_series\n",
    "# Exporting the DataFrame as csv\n",
    "data.to_csv('privateproperty.csv', index=False)"
   ]
  },
  {
   "cell_type": "markdown",
   "metadata": {},
   "source": [
    "### Part 2 : Data Cleaning "
   ]
  },
  {
   "cell_type": "code",
   "execution_count": 243,
   "metadata": {},
   "outputs": [
    {
     "data": {
      "text/html": [
       "<div>\n",
       "<style scoped>\n",
       "    .dataframe tbody tr th:only-of-type {\n",
       "        vertical-align: middle;\n",
       "    }\n",
       "\n",
       "    .dataframe tbody tr th {\n",
       "        vertical-align: top;\n",
       "    }\n",
       "\n",
       "    .dataframe thead th {\n",
       "        text-align: right;\n",
       "    }\n",
       "</style>\n",
       "<table border=\"1\" class=\"dataframe\">\n",
       "  <thead>\n",
       "    <tr style=\"text-align: right;\">\n",
       "      <th></th>\n",
       "      <th>Bedrooms</th>\n",
       "      <th>Bathrooms</th>\n",
       "      <th>Property Type</th>\n",
       "      <th>Location</th>\n",
       "      <th>Price(R)</th>\n",
       "    </tr>\n",
       "  </thead>\n",
       "  <tbody>\n",
       "    <tr>\n",
       "      <th>0</th>\n",
       "      <td>2.0</td>\n",
       "      <td>2.0</td>\n",
       "      <td>Apartment</td>\n",
       "      <td>Randpark Ridge</td>\n",
       "      <td>R 1 147 000</td>\n",
       "    </tr>\n",
       "    <tr>\n",
       "      <th>1</th>\n",
       "      <td>3.0</td>\n",
       "      <td>2.0</td>\n",
       "      <td>House</td>\n",
       "      <td>Ferndale</td>\n",
       "      <td>R 1 950 000</td>\n",
       "    </tr>\n",
       "    <tr>\n",
       "      <th>2</th>\n",
       "      <td>4.0</td>\n",
       "      <td>3.0</td>\n",
       "      <td>House</td>\n",
       "      <td>Robindale</td>\n",
       "      <td>R 2 199 999</td>\n",
       "    </tr>\n",
       "    <tr>\n",
       "      <th>3</th>\n",
       "      <td>5.0</td>\n",
       "      <td>3.0</td>\n",
       "      <td>House</td>\n",
       "      <td>Randpark Ridge</td>\n",
       "      <td>R 2 600 000</td>\n",
       "    </tr>\n",
       "    <tr>\n",
       "      <th>4</th>\n",
       "      <td>4.0</td>\n",
       "      <td>3.0</td>\n",
       "      <td>House</td>\n",
       "      <td>Blairgowrie</td>\n",
       "      <td>R 3 200 000</td>\n",
       "    </tr>\n",
       "  </tbody>\n",
       "</table>\n",
       "</div>"
      ],
      "text/plain": [
       "   Bedrooms  Bathrooms Property Type        Location     Price(R)\n",
       "0       2.0        2.0     Apartment  Randpark Ridge  R 1 147 000\n",
       "1       3.0        2.0         House        Ferndale  R 1 950 000\n",
       "2       4.0        3.0         House       Robindale  R 2 199 999\n",
       "3       5.0        3.0         House  Randpark Ridge  R 2 600 000\n",
       "4       4.0        3.0         House     Blairgowrie  R 3 200 000"
      ]
     },
     "execution_count": 243,
     "metadata": {},
     "output_type": "execute_result"
    }
   ],
   "source": [
    "# View first 5 rows of the dataset\n",
    "data = pd.read_csv('privateproperty.csv')\n",
    "data.head()"
   ]
  },
  {
   "cell_type": "code",
   "execution_count": 244,
   "metadata": {},
   "outputs": [
    {
     "data": {
      "text/html": [
       "<div>\n",
       "<style scoped>\n",
       "    .dataframe tbody tr th:only-of-type {\n",
       "        vertical-align: middle;\n",
       "    }\n",
       "\n",
       "    .dataframe tbody tr th {\n",
       "        vertical-align: top;\n",
       "    }\n",
       "\n",
       "    .dataframe thead th {\n",
       "        text-align: right;\n",
       "    }\n",
       "</style>\n",
       "<table border=\"1\" class=\"dataframe\">\n",
       "  <thead>\n",
       "    <tr style=\"text-align: right;\">\n",
       "      <th></th>\n",
       "      <th>Bedrooms</th>\n",
       "      <th>Bathrooms</th>\n",
       "      <th>Property Type</th>\n",
       "      <th>Location</th>\n",
       "      <th>Price(R)</th>\n",
       "    </tr>\n",
       "  </thead>\n",
       "  <tbody>\n",
       "    <tr>\n",
       "      <th>1287</th>\n",
       "      <td>2.0</td>\n",
       "      <td>2.0</td>\n",
       "      <td>Apartment</td>\n",
       "      <td>Windsor East</td>\n",
       "      <td>R 300 000</td>\n",
       "    </tr>\n",
       "    <tr>\n",
       "      <th>1288</th>\n",
       "      <td>2.0</td>\n",
       "      <td>2.0</td>\n",
       "      <td>Apartment</td>\n",
       "      <td>Ferndale</td>\n",
       "      <td>R 499 999</td>\n",
       "    </tr>\n",
       "    <tr>\n",
       "      <th>1289</th>\n",
       "      <td>4.0</td>\n",
       "      <td>2.0</td>\n",
       "      <td>Apartment</td>\n",
       "      <td>Ferndale</td>\n",
       "      <td>R 530 000</td>\n",
       "    </tr>\n",
       "    <tr>\n",
       "      <th>1290</th>\n",
       "      <td>1.0</td>\n",
       "      <td>1.0</td>\n",
       "      <td>Apartment</td>\n",
       "      <td>Ferndale</td>\n",
       "      <td>R 530 000</td>\n",
       "    </tr>\n",
       "    <tr>\n",
       "      <th>1291</th>\n",
       "      <td>4.0</td>\n",
       "      <td>3.0</td>\n",
       "      <td>Apartment</td>\n",
       "      <td>Ferndale</td>\n",
       "      <td>R 570 000</td>\n",
       "    </tr>\n",
       "  </tbody>\n",
       "</table>\n",
       "</div>"
      ],
      "text/plain": [
       "      Bedrooms  Bathrooms Property Type      Location   Price(R)\n",
       "1287       2.0        2.0     Apartment  Windsor East  R 300 000\n",
       "1288       2.0        2.0     Apartment      Ferndale  R 499 999\n",
       "1289       4.0        2.0     Apartment      Ferndale  R 530 000\n",
       "1290       1.0        1.0     Apartment      Ferndale  R 530 000\n",
       "1291       4.0        3.0     Apartment      Ferndale  R 570 000"
      ]
     },
     "execution_count": 244,
     "metadata": {},
     "output_type": "execute_result"
    }
   ],
   "source": [
    "# View last 5 rows\n",
    "data.tail()"
   ]
  },
  {
   "cell_type": "code",
   "execution_count": 245,
   "metadata": {},
   "outputs": [
    {
     "name": "stdout",
     "output_type": "stream",
     "text": [
      "Number of rows : 1292\n",
      "Number of columns : 5\n"
     ]
    }
   ],
   "source": [
    "print(\"Number of rows : {}\".format(data.shape[0]))\n",
    "print(\"Number of columns : {}\".format(data.shape[1]))"
   ]
  },
  {
   "cell_type": "code",
   "execution_count": 246,
   "metadata": {},
   "outputs": [
    {
     "name": "stdout",
     "output_type": "stream",
     "text": [
      "<class 'pandas.core.frame.DataFrame'>\n",
      "RangeIndex: 1292 entries, 0 to 1291\n",
      "Data columns (total 5 columns):\n",
      " #   Column         Non-Null Count  Dtype  \n",
      "---  ------         --------------  -----  \n",
      " 0   Bedrooms       1292 non-null   float64\n",
      " 1   Bathrooms      1292 non-null   float64\n",
      " 2   Property Type  1292 non-null   object \n",
      " 3   Location       1292 non-null   object \n",
      " 4   Price(R)       1292 non-null   object \n",
      "dtypes: float64(2), object(3)\n",
      "memory usage: 50.6+ KB\n"
     ]
    }
   ],
   "source": [
    "# Display Information About Our Dataset Like Total Number Rows,\n",
    "# Total Number of Columns, Datatypes of Each Column And Memory Requirement\n",
    "data.info()"
   ]
  },
  {
   "cell_type": "code",
   "execution_count": 247,
   "metadata": {},
   "outputs": [
    {
     "data": {
      "text/html": [
       "<div>\n",
       "<style scoped>\n",
       "    .dataframe tbody tr th:only-of-type {\n",
       "        vertical-align: middle;\n",
       "    }\n",
       "\n",
       "    .dataframe tbody tr th {\n",
       "        vertical-align: top;\n",
       "    }\n",
       "\n",
       "    .dataframe thead th {\n",
       "        text-align: right;\n",
       "    }\n",
       "</style>\n",
       "<table border=\"1\" class=\"dataframe\">\n",
       "  <thead>\n",
       "    <tr style=\"text-align: right;\">\n",
       "      <th></th>\n",
       "      <th>Bedrooms</th>\n",
       "      <th>Bathrooms</th>\n",
       "    </tr>\n",
       "  </thead>\n",
       "  <tbody>\n",
       "    <tr>\n",
       "      <th>count</th>\n",
       "      <td>1292.000000</td>\n",
       "      <td>1292.000000</td>\n",
       "    </tr>\n",
       "    <tr>\n",
       "      <th>mean</th>\n",
       "      <td>3.047988</td>\n",
       "      <td>2.108746</td>\n",
       "    </tr>\n",
       "    <tr>\n",
       "      <th>std</th>\n",
       "      <td>2.069012</td>\n",
       "      <td>1.638393</td>\n",
       "    </tr>\n",
       "    <tr>\n",
       "      <th>min</th>\n",
       "      <td>0.500000</td>\n",
       "      <td>1.000000</td>\n",
       "    </tr>\n",
       "    <tr>\n",
       "      <th>25%</th>\n",
       "      <td>2.000000</td>\n",
       "      <td>1.000000</td>\n",
       "    </tr>\n",
       "    <tr>\n",
       "      <th>50%</th>\n",
       "      <td>3.000000</td>\n",
       "      <td>2.000000</td>\n",
       "    </tr>\n",
       "    <tr>\n",
       "      <th>75%</th>\n",
       "      <td>4.000000</td>\n",
       "      <td>2.500000</td>\n",
       "    </tr>\n",
       "    <tr>\n",
       "      <th>max</th>\n",
       "      <td>32.000000</td>\n",
       "      <td>27.500000</td>\n",
       "    </tr>\n",
       "  </tbody>\n",
       "</table>\n",
       "</div>"
      ],
      "text/plain": [
       "          Bedrooms    Bathrooms\n",
       "count  1292.000000  1292.000000\n",
       "mean      3.047988     2.108746\n",
       "std       2.069012     1.638393\n",
       "min       0.500000     1.000000\n",
       "25%       2.000000     1.000000\n",
       "50%       3.000000     2.000000\n",
       "75%       4.000000     2.500000\n",
       "max      32.000000    27.500000"
      ]
     },
     "execution_count": 247,
     "metadata": {},
     "output_type": "execute_result"
    }
   ],
   "source": [
    "data.describe()"
   ]
  },
  {
   "cell_type": "code",
   "execution_count": 248,
   "metadata": {},
   "outputs": [
    {
     "data": {
      "text/plain": [
       "Bedrooms         0\n",
       "Bathrooms        0\n",
       "Property Type    0\n",
       "Location         0\n",
       "Price(R)         0\n",
       "dtype: int64"
      ]
     },
     "execution_count": 248,
     "metadata": {},
     "output_type": "execute_result"
    }
   ],
   "source": [
    "# Check for Null Values in our dataset \n",
    "data.isna().sum()"
   ]
  },
  {
   "cell_type": "code",
   "execution_count": 249,
   "metadata": {},
   "outputs": [
    {
     "data": {
      "text/plain": [
       "124"
      ]
     },
     "execution_count": 249,
     "metadata": {},
     "output_type": "execute_result"
    }
   ],
   "source": [
    "#Check for any duplicates and if there's any, we drop them\n",
    "data.duplicated().sum()"
   ]
  },
  {
   "cell_type": "code",
   "execution_count": 250,
   "metadata": {},
   "outputs": [],
   "source": [
    "# drop all duplicated rows\n",
    "data.drop_duplicates(inplace=True)"
   ]
  },
  {
   "cell_type": "code",
   "execution_count": 251,
   "metadata": {},
   "outputs": [
    {
     "data": {
      "text/plain": [
       "(1168, 5)"
      ]
     },
     "execution_count": 251,
     "metadata": {},
     "output_type": "execute_result"
    }
   ],
   "source": [
    "data.shape"
   ]
  },
  {
   "cell_type": "code",
   "execution_count": 252,
   "metadata": {},
   "outputs": [
    {
     "data": {
      "text/plain": [
       "dtype('O')"
      ]
     },
     "execution_count": 252,
     "metadata": {},
     "output_type": "execute_result"
    }
   ],
   "source": [
    "data['Price(R)'].dtype"
   ]
  },
  {
   "cell_type": "markdown",
   "metadata": {},
   "source": [
    "###### The price column is an object dtype and I'm going to convert it into an int data type. "
   ]
  },
  {
   "cell_type": "code",
   "execution_count": 253,
   "metadata": {},
   "outputs": [
    {
     "data": {
      "text/html": [
       "<div>\n",
       "<style scoped>\n",
       "    .dataframe tbody tr th:only-of-type {\n",
       "        vertical-align: middle;\n",
       "    }\n",
       "\n",
       "    .dataframe tbody tr th {\n",
       "        vertical-align: top;\n",
       "    }\n",
       "\n",
       "    .dataframe thead th {\n",
       "        text-align: right;\n",
       "    }\n",
       "</style>\n",
       "<table border=\"1\" class=\"dataframe\">\n",
       "  <thead>\n",
       "    <tr style=\"text-align: right;\">\n",
       "      <th></th>\n",
       "      <th>Bedrooms</th>\n",
       "      <th>Bathrooms</th>\n",
       "      <th>Property Type</th>\n",
       "      <th>Location</th>\n",
       "      <th>Price(R)</th>\n",
       "    </tr>\n",
       "  </thead>\n",
       "  <tbody>\n",
       "    <tr>\n",
       "      <th>0</th>\n",
       "      <td>2.0</td>\n",
       "      <td>2.0</td>\n",
       "      <td>Apartment</td>\n",
       "      <td>Randpark Ridge</td>\n",
       "      <td>1 147 000</td>\n",
       "    </tr>\n",
       "    <tr>\n",
       "      <th>1</th>\n",
       "      <td>3.0</td>\n",
       "      <td>2.0</td>\n",
       "      <td>House</td>\n",
       "      <td>Ferndale</td>\n",
       "      <td>1 950 000</td>\n",
       "    </tr>\n",
       "    <tr>\n",
       "      <th>2</th>\n",
       "      <td>4.0</td>\n",
       "      <td>3.0</td>\n",
       "      <td>House</td>\n",
       "      <td>Robindale</td>\n",
       "      <td>2 199 999</td>\n",
       "    </tr>\n",
       "    <tr>\n",
       "      <th>3</th>\n",
       "      <td>5.0</td>\n",
       "      <td>3.0</td>\n",
       "      <td>House</td>\n",
       "      <td>Randpark Ridge</td>\n",
       "      <td>2 600 000</td>\n",
       "    </tr>\n",
       "    <tr>\n",
       "      <th>4</th>\n",
       "      <td>4.0</td>\n",
       "      <td>3.0</td>\n",
       "      <td>House</td>\n",
       "      <td>Blairgowrie</td>\n",
       "      <td>3 200 000</td>\n",
       "    </tr>\n",
       "  </tbody>\n",
       "</table>\n",
       "</div>"
      ],
      "text/plain": [
       "   Bedrooms  Bathrooms Property Type        Location   Price(R)\n",
       "0       2.0        2.0     Apartment  Randpark Ridge  1 147 000\n",
       "1       3.0        2.0         House        Ferndale  1 950 000\n",
       "2       4.0        3.0         House       Robindale  2 199 999\n",
       "3       5.0        3.0         House  Randpark Ridge  2 600 000\n",
       "4       4.0        3.0         House     Blairgowrie  3 200 000"
      ]
     },
     "execution_count": 253,
     "metadata": {},
     "output_type": "execute_result"
    }
   ],
   "source": [
    "data['Price(R)'] = data['Price(R)'].str[2:]\n",
    "data.head()"
   ]
  },
  {
   "cell_type": "code",
   "execution_count": 254,
   "metadata": {},
   "outputs": [
    {
     "data": {
      "text/plain": [
       "39"
      ]
     },
     "execution_count": 254,
     "metadata": {},
     "output_type": "execute_result"
    }
   ],
   "source": [
    "data['Price(R)'].str.contains('ld', case=False).sum()"
   ]
  },
  {
   "cell_type": "code",
   "execution_count": 255,
   "metadata": {},
   "outputs": [],
   "source": [
    "data = data.drop(data[data['Price(R)'].str.contains('ld', case=False)].index)"
   ]
  },
  {
   "cell_type": "code",
   "execution_count": 256,
   "metadata": {},
   "outputs": [
    {
     "data": {
      "text/html": [
       "<div>\n",
       "<style scoped>\n",
       "    .dataframe tbody tr th:only-of-type {\n",
       "        vertical-align: middle;\n",
       "    }\n",
       "\n",
       "    .dataframe tbody tr th {\n",
       "        vertical-align: top;\n",
       "    }\n",
       "\n",
       "    .dataframe thead th {\n",
       "        text-align: right;\n",
       "    }\n",
       "</style>\n",
       "<table border=\"1\" class=\"dataframe\">\n",
       "  <thead>\n",
       "    <tr style=\"text-align: right;\">\n",
       "      <th></th>\n",
       "      <th>Bedrooms</th>\n",
       "      <th>Bathrooms</th>\n",
       "      <th>Property Type</th>\n",
       "      <th>Location</th>\n",
       "      <th>Price(R)</th>\n",
       "    </tr>\n",
       "  </thead>\n",
       "  <tbody>\n",
       "    <tr>\n",
       "      <th>0</th>\n",
       "      <td>2.0</td>\n",
       "      <td>2.0</td>\n",
       "      <td>Apartment</td>\n",
       "      <td>Randpark Ridge</td>\n",
       "      <td>1 147 000</td>\n",
       "    </tr>\n",
       "    <tr>\n",
       "      <th>1</th>\n",
       "      <td>3.0</td>\n",
       "      <td>2.0</td>\n",
       "      <td>House</td>\n",
       "      <td>Ferndale</td>\n",
       "      <td>1 950 000</td>\n",
       "    </tr>\n",
       "    <tr>\n",
       "      <th>2</th>\n",
       "      <td>4.0</td>\n",
       "      <td>3.0</td>\n",
       "      <td>House</td>\n",
       "      <td>Robindale</td>\n",
       "      <td>2 199 999</td>\n",
       "    </tr>\n",
       "    <tr>\n",
       "      <th>3</th>\n",
       "      <td>5.0</td>\n",
       "      <td>3.0</td>\n",
       "      <td>House</td>\n",
       "      <td>Randpark Ridge</td>\n",
       "      <td>2 600 000</td>\n",
       "    </tr>\n",
       "    <tr>\n",
       "      <th>4</th>\n",
       "      <td>4.0</td>\n",
       "      <td>3.0</td>\n",
       "      <td>House</td>\n",
       "      <td>Blairgowrie</td>\n",
       "      <td>3 200 000</td>\n",
       "    </tr>\n",
       "  </tbody>\n",
       "</table>\n",
       "</div>"
      ],
      "text/plain": [
       "   Bedrooms  Bathrooms Property Type        Location   Price(R)\n",
       "0       2.0        2.0     Apartment  Randpark Ridge  1 147 000\n",
       "1       3.0        2.0         House        Ferndale  1 950 000\n",
       "2       4.0        3.0         House       Robindale  2 199 999\n",
       "3       5.0        3.0         House  Randpark Ridge  2 600 000\n",
       "4       4.0        3.0         House     Blairgowrie  3 200 000"
      ]
     },
     "execution_count": 256,
     "metadata": {},
     "output_type": "execute_result"
    }
   ],
   "source": [
    "data.head()"
   ]
  },
  {
   "cell_type": "code",
   "execution_count": 257,
   "metadata": {},
   "outputs": [
    {
     "name": "stdout",
     "output_type": "stream",
     "text": [
      "<class 'pandas.core.frame.DataFrame'>\n",
      "Int64Index: 1129 entries, 0 to 1291\n",
      "Data columns (total 5 columns):\n",
      " #   Column         Non-Null Count  Dtype  \n",
      "---  ------         --------------  -----  \n",
      " 0   Bedrooms       1129 non-null   float64\n",
      " 1   Bathrooms      1129 non-null   float64\n",
      " 2   Property Type  1129 non-null   object \n",
      " 3   Location       1129 non-null   object \n",
      " 4   Price(R)       1129 non-null   object \n",
      "dtypes: float64(2), object(3)\n",
      "memory usage: 52.9+ KB\n"
     ]
    }
   ],
   "source": [
    "data.info()"
   ]
  },
  {
   "cell_type": "code",
   "execution_count": 258,
   "metadata": {},
   "outputs": [],
   "source": [
    "data = data[data['Price(R)']!='ice on Application']"
   ]
  },
  {
   "cell_type": "code",
   "execution_count": 259,
   "metadata": {},
   "outputs": [],
   "source": [
    "data = data.drop(data[data['Price(R)'].str.contains('ction', case=False)].index)"
   ]
  },
  {
   "cell_type": "code",
   "execution_count": 260,
   "metadata": {},
   "outputs": [
    {
     "data": {
      "text/html": [
       "<div>\n",
       "<style scoped>\n",
       "    .dataframe tbody tr th:only-of-type {\n",
       "        vertical-align: middle;\n",
       "    }\n",
       "\n",
       "    .dataframe tbody tr th {\n",
       "        vertical-align: top;\n",
       "    }\n",
       "\n",
       "    .dataframe thead th {\n",
       "        text-align: right;\n",
       "    }\n",
       "</style>\n",
       "<table border=\"1\" class=\"dataframe\">\n",
       "  <thead>\n",
       "    <tr style=\"text-align: right;\">\n",
       "      <th></th>\n",
       "      <th>Bedrooms</th>\n",
       "      <th>Bathrooms</th>\n",
       "      <th>Property Type</th>\n",
       "      <th>Location</th>\n",
       "      <th>Price(R)</th>\n",
       "    </tr>\n",
       "  </thead>\n",
       "  <tbody>\n",
       "    <tr>\n",
       "      <th>0</th>\n",
       "      <td>2.0</td>\n",
       "      <td>2.0</td>\n",
       "      <td>Apartment</td>\n",
       "      <td>Randpark Ridge</td>\n",
       "      <td>1 147 000</td>\n",
       "    </tr>\n",
       "    <tr>\n",
       "      <th>1</th>\n",
       "      <td>3.0</td>\n",
       "      <td>2.0</td>\n",
       "      <td>House</td>\n",
       "      <td>Ferndale</td>\n",
       "      <td>1 950 000</td>\n",
       "    </tr>\n",
       "    <tr>\n",
       "      <th>2</th>\n",
       "      <td>4.0</td>\n",
       "      <td>3.0</td>\n",
       "      <td>House</td>\n",
       "      <td>Robindale</td>\n",
       "      <td>2 199 999</td>\n",
       "    </tr>\n",
       "    <tr>\n",
       "      <th>3</th>\n",
       "      <td>5.0</td>\n",
       "      <td>3.0</td>\n",
       "      <td>House</td>\n",
       "      <td>Randpark Ridge</td>\n",
       "      <td>2 600 000</td>\n",
       "    </tr>\n",
       "    <tr>\n",
       "      <th>4</th>\n",
       "      <td>4.0</td>\n",
       "      <td>3.0</td>\n",
       "      <td>House</td>\n",
       "      <td>Blairgowrie</td>\n",
       "      <td>3 200 000</td>\n",
       "    </tr>\n",
       "  </tbody>\n",
       "</table>\n",
       "</div>"
      ],
      "text/plain": [
       "   Bedrooms  Bathrooms Property Type        Location   Price(R)\n",
       "0       2.0        2.0     Apartment  Randpark Ridge  1 147 000\n",
       "1       3.0        2.0         House        Ferndale  1 950 000\n",
       "2       4.0        3.0         House       Robindale  2 199 999\n",
       "3       5.0        3.0         House  Randpark Ridge  2 600 000\n",
       "4       4.0        3.0         House     Blairgowrie  3 200 000"
      ]
     },
     "execution_count": 260,
     "metadata": {},
     "output_type": "execute_result"
    }
   ],
   "source": [
    "data.head()"
   ]
  },
  {
   "cell_type": "code",
   "execution_count": 261,
   "metadata": {},
   "outputs": [
    {
     "name": "stdout",
     "output_type": "stream",
     "text": [
      "<class 'pandas.core.frame.DataFrame'>\n",
      "Int64Index: 1125 entries, 0 to 1291\n",
      "Data columns (total 5 columns):\n",
      " #   Column         Non-Null Count  Dtype  \n",
      "---  ------         --------------  -----  \n",
      " 0   Bedrooms       1125 non-null   float64\n",
      " 1   Bathrooms      1125 non-null   float64\n",
      " 2   Property Type  1125 non-null   object \n",
      " 3   Location       1125 non-null   object \n",
      " 4   Price(R)       1125 non-null   object \n",
      "dtypes: float64(2), object(3)\n",
      "memory usage: 52.7+ KB\n"
     ]
    }
   ],
   "source": [
    "data.info()"
   ]
  },
  {
   "cell_type": "code",
   "execution_count": 262,
   "metadata": {},
   "outputs": [],
   "source": [
    "# Convert price column into numeric dtypes\n",
    "def clean_up(num):\n",
    "    if num in data['Price(R)']:\n",
    "        return num.replace(\" \", \"\")\n",
    "    else:\n",
    "        return num.replace(\" \", \"\")"
   ]
  },
  {
   "cell_type": "code",
   "execution_count": 263,
   "metadata": {},
   "outputs": [],
   "source": [
    "data['Price(R)'] = data['Price(R)'].apply(clean_up)"
   ]
  },
  {
   "cell_type": "code",
   "execution_count": 264,
   "metadata": {},
   "outputs": [
    {
     "data": {
      "text/plain": [
       "0       1147000\n",
       "1       1950000\n",
       "2       2199999\n",
       "3       2600000\n",
       "4       3200000\n",
       "         ...   \n",
       "1287     300000\n",
       "1288     499999\n",
       "1289     530000\n",
       "1290     530000\n",
       "1291     570000\n",
       "Name: Price(R), Length: 1125, dtype: object"
      ]
     },
     "execution_count": 264,
     "metadata": {},
     "output_type": "execute_result"
    }
   ],
   "source": [
    "data['Price(R)']"
   ]
  },
  {
   "cell_type": "code",
   "execution_count": 265,
   "metadata": {},
   "outputs": [
    {
     "name": "stdout",
     "output_type": "stream",
     "text": [
      "<class 'pandas.core.frame.DataFrame'>\n",
      "Int64Index: 1125 entries, 0 to 1291\n",
      "Data columns (total 5 columns):\n",
      " #   Column         Non-Null Count  Dtype  \n",
      "---  ------         --------------  -----  \n",
      " 0   Bedrooms       1125 non-null   float64\n",
      " 1   Bathrooms      1125 non-null   float64\n",
      " 2   Property Type  1125 non-null   object \n",
      " 3   Location       1125 non-null   object \n",
      " 4   Price(R)       1125 non-null   int64  \n",
      "dtypes: float64(2), int64(1), object(2)\n",
      "memory usage: 92.7+ KB\n"
     ]
    }
   ],
   "source": [
    "data['Price(R)'] = data['Price(R)'].astype(int)\n",
    "data.info()"
   ]
  },
  {
   "cell_type": "markdown",
   "metadata": {},
   "source": [
    "### Part 3 : Analysis & Visualization"
   ]
  },
  {
   "cell_type": "code",
   "execution_count": 266,
   "metadata": {},
   "outputs": [
    {
     "data": {
      "text/plain": [
       "array(['Randpark Ridge', 'Ferndale', 'Robindale', 'Blairgowrie',\n",
       "       'Fontainebleau', 'Windsor East', 'Kelland', 'Kensington B',\n",
       "       'Robin Hills', 'Moret', 'Cresta', 'Strydompark', 'Malanshof',\n",
       "       'Darrenwood', 'Windsor West', 'President Ridge', 'Bordeaux',\n",
       "       'Aldara Park', 'Randpark', 'Windsor Glen', 'Ruiterhof',\n",
       "       'Industria'], dtype=object)"
      ]
     },
     "execution_count": 266,
     "metadata": {},
     "output_type": "execute_result"
    }
   ],
   "source": [
    "### All the suburbs in our dataset \n",
    "data['Location'].unique()"
   ]
  },
  {
   "cell_type": "code",
   "execution_count": 267,
   "metadata": {},
   "outputs": [
    {
     "name": "stdout",
     "output_type": "stream",
     "text": [
      "There are 22 different suburbs in our dataset.\n"
     ]
    }
   ],
   "source": [
    "print(\"There are {} different suburbs in our dataset.\".format(len(data['Location'].unique())))"
   ]
  },
  {
   "cell_type": "code",
   "execution_count": 289,
   "metadata": {},
   "outputs": [
    {
     "data": {
      "text/plain": [
       "Location\n",
       "Ferndale           423\n",
       "Randpark Ridge     115\n",
       "Windsor East        95\n",
       "Blairgowrie         88\n",
       "Windsor West        76\n",
       "Robindale           55\n",
       "Kensington B        37\n",
       "Robin Hills         32\n",
       "Malanshof           30\n",
       "Cresta              28\n",
       "Bordeaux            28\n",
       "Fontainebleau       27\n",
       "Darrenwood          18\n",
       "President Ridge     17\n",
       "Randpark            16\n",
       "Kelland             16\n",
       "Windsor Glen         9\n",
       "Strydompark          5\n",
       "Moret                4\n",
       "Aldara Park          3\n",
       "Ruiterhof            2\n",
       "Industria            1\n",
       "dtype: int64"
      ]
     },
     "execution_count": 289,
     "metadata": {},
     "output_type": "execute_result"
    }
   ],
   "source": [
    "# Which suburb has the most listed properties\n",
    "suburbs = data.groupby('Location').size().sort_values(ascending=False)\n",
    "suburbs"
   ]
  },
  {
   "cell_type": "code",
   "execution_count": 290,
   "metadata": {},
   "outputs": [
    {
     "data": {
      "image/png": "[encoded data removed]",
      "text/plain": [
       "<Figure size 720x648 with 1 Axes>"
      ]
     },
     "metadata": {
      "needs_background": "light"
     },
     "output_type": "display_data"
    }
   ],
   "source": [
    "labels = data['Location'].astype('category').cat.categories.tolist()\n",
    "counts = data['Location'].value_counts()\n",
    "sizes = [counts[var_cat] for var_cat in labels]\n",
    "fig1, ax1 = plt.subplots(figsize=(10, 9))\n",
    "fig1.subplots_adjust(-0.1,0,1,1)\n",
    "ax1.pie(sizes, labels=labels, autopct='%1.1f%%', radius = 3000, frame=True,  shadow=True)\n",
    "ax1.axis('equal')\n",
    "plt.title('Suburbs\\' Percentage Of Property Listings')\n",
    "plt.show()"
   ]
  },
  {
   "cell_type": "markdown",
   "metadata": {},
   "source": [
    "###### Ferndale has the most listed properties for sale on the site. "
   ]
  },
  {
   "cell_type": "code",
   "execution_count": 281,
   "metadata": {},
   "outputs": [
    {
     "data": {
      "text/plain": [
       "array(['Apartment', 'House', 'Duplex', 'Simplex', 'Townhouse', 'Cluster',\n",
       "       'Flat', 'Bachelor', 'Land', 'Studio'], dtype=object)"
      ]
     },
     "execution_count": 281,
     "metadata": {},
     "output_type": "execute_result"
    }
   ],
   "source": [
    "### All the Property types in our dataset \n",
    "data['Property Type'].unique()"
   ]
  },
  {
   "cell_type": "code",
   "execution_count": 282,
   "metadata": {},
   "outputs": [
    {
     "data": {
      "text/plain": [
       "210"
      ]
     },
     "execution_count": 282,
     "metadata": {},
     "output_type": "execute_result"
    }
   ],
   "source": [
    "### The number of houses in ferndale\n",
    "num_house_ferndale = len(data[(data['Location'] =='Ferndale') & (data['Property Type'].str.contains('House', case=False))])\n",
    "num_house_ferndale"
   ]
  },
  {
   "cell_type": "code",
   "execution_count": 283,
   "metadata": {},
   "outputs": [
    {
     "data": {
      "text/plain": [
       "683"
      ]
     },
     "execution_count": 283,
     "metadata": {},
     "output_type": "execute_result"
    }
   ],
   "source": [
    "# Number of houses in the dataset\n",
    "num_houses = len(data[(data['Location'] ==data['Location']) & (data['Property Type'].str.contains('House', case=False))])\n",
    "num_houses"
   ]
  },
  {
   "cell_type": "code",
   "execution_count": 286,
   "metadata": {},
   "outputs": [
    {
     "name": "stdout",
     "output_type": "stream",
     "text": [
      "30.75 % of the houses in our dataset are in ferndale.\n"
     ]
    }
   ],
   "source": [
    "# Percentage of ferndale\n",
    "per_house_ferndale = round((num_house_ferndale / num_houses) * 100, 2)\n",
    "print('{} % of the houses in our dataset are in ferndale.'.format(per_house_ferndale))"
   ]
  },
  {
   "cell_type": "code",
   "execution_count": 287,
   "metadata": {},
   "outputs": [
    {
     "data": {
      "text/plain": [
       "House        523\n",
       "Apartment    338\n",
       "Townhouse    160\n",
       "Duplex        31\n",
       "Flat          21\n",
       "Name: Property Type, dtype: int64"
      ]
     },
     "execution_count": 287,
     "metadata": {},
     "output_type": "execute_result"
    }
   ],
   "source": [
    "### Top 5 Property type with the most listings ?\n",
    "data['Property Type'].value_counts().head()"
   ]
  },
  {
   "cell_type": "code",
   "execution_count": 288,
   "metadata": {},
   "outputs": [
    {
     "data": {
      "image/png": "[encoded data removed]",
      "text/plain": [
       "<Figure size 1080x504 with 1 Axes>"
      ]
     },
     "metadata": {
      "needs_background": "light"
     },
     "output_type": "display_data"
    }
   ],
   "source": [
    "# Visualize number of listings per property type\n",
    "plt.figure(figsize = (15,7))\n",
    "ax = sns.countplot(x='Property Type', data=data)\n",
    "locs, labels = plt.xticks()\n",
    "plt.setp(labels, rotation=45)\n",
    "plt.title('Number Of Listings Per Property Type')\n",
    "plt.show()"
   ]
  },
  {
   "cell_type": "code",
   "execution_count": 323,
   "metadata": {},
   "outputs": [
    {
     "name": "stdout",
     "output_type": "stream",
     "text": [
      "Lowest Price tag in our dataset is :  270000\n",
      "Highest Price tag in our dataset is :  14950000\n"
     ]
    }
   ],
   "source": [
    "# properties with the lowest & highest Price tag\n",
    "print('Lowest Price tag in our dataset is : ', data['Price(R)'].min())\n",
    "print('Highest Price tag in our dataset is : ', data['Price(R)'].max())"
   ]
  },
  {
   "cell_type": "code",
   "execution_count": 326,
   "metadata": {},
   "outputs": [
    {
     "name": "stdout",
     "output_type": "stream",
     "text": [
      "Location : 1211    Randpark Ridge\n",
      "Name: Location, dtype: object\n",
      "Location : 620    Windsor East\n",
      "621    Windsor East\n",
      "Name: Location, dtype: object\n"
     ]
    }
   ],
   "source": [
    "# Locate property with the highest & lowest Price tag\n",
    "print('Location :' , data[data['Price(R)'].max() == data['Price(R)']]['Location'])\n",
    "print('Location :' , data[data['Price(R)'].min() == data['Price(R)']]['Location'])"
   ]
  },
  {
   "cell_type": "code",
   "execution_count": 328,
   "metadata": {},
   "outputs": [
    {
     "name": "stdout",
     "output_type": "stream",
     "text": [
      "Property Type : 1211    Land\n",
      "Name: Property Type, dtype: object\n",
      "Property Type : 620    Apartment\n",
      "621    Apartment\n",
      "Name: Property Type, dtype: object\n"
     ]
    }
   ],
   "source": [
    "# Property type of lowest & highest property type\n",
    "print('Property Type :',data[data['Price(R)'].max() == data['Price(R)']]['Property Type'])\n",
    "print('Property Type :',data[data['Price(R)'].min() == data['Price(R)']]['Property Type'])"
   ]
  },
  {
   "cell_type": "markdown",
   "metadata": {},
   "source": [
    "###### The property with the highest price tag is a piece of land in Randpark Ridge and is priced at R14 950 000. Bizzare."
   ]
  },
  {
   "cell_type": "code",
   "execution_count": 308,
   "metadata": {},
   "outputs": [
    {
     "data": {
      "text/plain": [
       "Bedrooms                      3\n",
       "Bathrooms                     2\n",
       "Property Type              Land\n",
       "Location         Randpark Ridge\n",
       "Price(R)               14950000\n",
       "Name: 1211, dtype: object"
      ]
     },
     "metadata": {},
     "output_type": "display_data"
    }
   ],
   "source": [
    "display(data.loc[1211])"
   ]
  },
  {
   "cell_type": "markdown",
   "metadata": {},
   "source": [
    "###### The property type appears to be incorrect, how can a vacant land have bedrooms and bathrooms ? "
   ]
  },
  {
   "cell_type": "code",
   "execution_count": 329,
   "metadata": {},
   "outputs": [
    {
     "data": {
      "text/plain": [
       "Bedrooms                    1\n",
       "Bathrooms                   1\n",
       "Property Type       Apartment\n",
       "Location         Windsor East\n",
       "Price(R)               270000\n",
       "Name: 620, dtype: object"
      ]
     },
     "metadata": {},
     "output_type": "display_data"
    }
   ],
   "source": [
    "display(data.loc[620])"
   ]
  },
  {
   "cell_type": "markdown",
   "metadata": {},
   "source": [
    "###### The property with the lowest price tag has 1 Bedroom, 1 bathroom and is in Windsor East. Makes sense. "
   ]
  }
 ],
 "metadata": {
  "kernelspec": {
   "display_name": "Python 3",
   "language": "python",
   "name": "python3"
  },
  "language_info": {
   "codemirror_mode": {
    "name": "ipython",
    "version": 3
   },
   "file_extension": ".py",
   "mimetype": "text/x-python",
   "name": "python",
   "nbconvert_exporter": "python",
   "pygments_lexer": "ipython3",
   "version": "3.8.5"
  }
 },
 "nbformat": 4,
 "nbformat_minor": 4
}
